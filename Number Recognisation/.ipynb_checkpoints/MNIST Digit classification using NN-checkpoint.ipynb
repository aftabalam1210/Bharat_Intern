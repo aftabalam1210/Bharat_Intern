{
 "cells": [
  {
   "cell_type": "markdown",
   "metadata": {
    "id": "as-6Wcqwg9s_"
   },
   "source": [
    "**MNIST Handwritten Digit Clasification using Deep Learning (Neural Network)**"
   ]
  },
  {
   "cell_type": "markdown",
   "metadata": {
    "id": "usJiEcc5jqcT"
   },
   "source": [
    "Importing the Dependencies"
   ]
  },
  {
   "cell_type": "code",
   "execution_count": 3,
   "metadata": {},
   "outputs": [
    {
     "name": "stdout",
     "output_type": "stream",
     "text": [
      "Defaulting to user installation because normal site-packages is not writeable\n",
      "Requirement already satisfied: opencv-python in c:\\users\\aftab\\appdata\\roaming\\python\\python39\\site-packages (4.8.0.74)\n",
      "Requirement already satisfied: numpy>=1.19.3 in c:\\users\\aftab\\appdata\\roaming\\python\\python39\\site-packages (from opencv-python) (1.23.5)\n"
     ]
    }
   ],
   "source": [
    "!pip install opencv-python"
   ]
  },
  {
   "cell_type": "code",
   "execution_count": 4,
   "metadata": {
    "executionInfo": {
     "elapsed": 6159,
     "status": "ok",
     "timestamp": 1688206696710,
     "user": {
      "displayName": "Aftab Alam",
      "userId": "03132164712327409153"
     },
     "user_tz": -330
    },
    "id": "Nh_KITKrquBI"
   },
   "outputs": [
    {
     "ename": "ModuleNotFoundError",
     "evalue": "No module named 'google.colab'",
     "output_type": "error",
     "traceback": [
      "\u001b[1;31m---------------------------------------------------------------------------\u001b[0m",
      "\u001b[1;31mModuleNotFoundError\u001b[0m                       Traceback (most recent call last)",
      "\u001b[1;32m~\\AppData\\Local\\Temp\\ipykernel_13468\\646582575.py\u001b[0m in \u001b[0;36m<module>\u001b[1;34m\u001b[0m\n\u001b[0;32m      3\u001b[0m \u001b[1;32mimport\u001b[0m \u001b[0mseaborn\u001b[0m \u001b[1;32mas\u001b[0m \u001b[0msns\u001b[0m\u001b[1;33m\u001b[0m\u001b[1;33m\u001b[0m\u001b[0m\n\u001b[0;32m      4\u001b[0m \u001b[1;32mimport\u001b[0m \u001b[0mcv2\u001b[0m\u001b[1;33m\u001b[0m\u001b[1;33m\u001b[0m\u001b[0m\n\u001b[1;32m----> 5\u001b[1;33m \u001b[1;32mfrom\u001b[0m \u001b[0mgoogle\u001b[0m\u001b[1;33m.\u001b[0m\u001b[0mcolab\u001b[0m\u001b[1;33m.\u001b[0m\u001b[0mpatches\u001b[0m \u001b[1;32mimport\u001b[0m \u001b[0mcv2_imshow\u001b[0m\u001b[1;33m\u001b[0m\u001b[1;33m\u001b[0m\u001b[0m\n\u001b[0m\u001b[0;32m      6\u001b[0m \u001b[1;32mfrom\u001b[0m \u001b[0mPIL\u001b[0m \u001b[1;32mimport\u001b[0m \u001b[0mImage\u001b[0m\u001b[1;33m\u001b[0m\u001b[1;33m\u001b[0m\u001b[0m\n\u001b[0;32m      7\u001b[0m \u001b[1;32mimport\u001b[0m \u001b[0mtensorflow\u001b[0m \u001b[1;32mas\u001b[0m \u001b[0mtf\u001b[0m\u001b[1;33m\u001b[0m\u001b[1;33m\u001b[0m\u001b[0m\n",
      "\u001b[1;31mModuleNotFoundError\u001b[0m: No module named 'google.colab'"
     ]
    }
   ],
   "source": [
    "import numpy as np\n",
    "import matplotlib.pyplot as plt\n",
    "import seaborn as sns\n",
    "import cv2\n",
    "from google.colab.patches import cv2_imshow\n",
    "from PIL import Image\n",
    "import tensorflow as tf\n",
    "tf.random.set_seed(3)\n",
    "from tensorflow import keras\n",
    "from keras.datasets import mnist\n",
    "from tensorflow.math import confusion_matrix"
   ]
  },
  {
   "cell_type": "markdown",
   "metadata": {
    "id": "Ea6YoasclFmE"
   },
   "source": [
    "Loading the MNIST data from keras.datasets"
   ]
  },
  {
   "cell_type": "code",
   "execution_count": null,
   "metadata": {
    "colab": {
     "base_uri": "https://localhost:8080/"
    },
    "executionInfo": {
     "elapsed": 1822,
     "status": "ok",
     "timestamp": 1688206698523,
     "user": {
      "displayName": "Aftab Alam",
      "userId": "03132164712327409153"
     },
     "user_tz": -330
    },
    "id": "pl_q6L7bk-JE",
    "outputId": "279165b5-93da-4650-b457-94e194fa888a"
   },
   "outputs": [],
   "source": [
    "(X_train, Y_train), (X_test, Y_test) =  mnist.load_data()"
   ]
  },
  {
   "cell_type": "code",
   "execution_count": null,
   "metadata": {
    "colab": {
     "base_uri": "https://localhost:8080/"
    },
    "executionInfo": {
     "elapsed": 17,
     "status": "ok",
     "timestamp": 1688206698524,
     "user": {
      "displayName": "Aftab Alam",
      "userId": "03132164712327409153"
     },
     "user_tz": -330
    },
    "id": "mTi9DEKtmAgU",
    "outputId": "253ca02a-46e8-4b5e-d00d-8aab14c63d9c"
   },
   "outputs": [],
   "source": [
    "type(X_train)"
   ]
  },
  {
   "cell_type": "code",
   "execution_count": null,
   "metadata": {
    "colab": {
     "base_uri": "https://localhost:8080/"
    },
    "executionInfo": {
     "elapsed": 14,
     "status": "ok",
     "timestamp": 1688206698524,
     "user": {
      "displayName": "Aftab Alam",
      "userId": "03132164712327409153"
     },
     "user_tz": -330
    },
    "id": "KK8ZWV6smDpv",
    "outputId": "f75e6272-5cc2-432b-c2b2-ee11603ff03b"
   },
   "outputs": [],
   "source": [
    "# shape of the numpy arrays\n",
    "print(X_train.shape, Y_train.shape, X_test.shape, Y_test.shape)"
   ]
  },
  {
   "cell_type": "markdown",
   "metadata": {
    "id": "rr9jdm31nBxK"
   },
   "source": [
    "Training data = 60,000 Images\n",
    "\n",
    "Test data = 10,000 Images"
   ]
  },
  {
   "cell_type": "markdown",
   "metadata": {
    "id": "XEYmlN6ZnHpk"
   },
   "source": [
    "Image dimension  --> 28 x 28\n",
    "\n",
    "Grayscale Image  --> 1 channel"
   ]
  },
  {
   "cell_type": "code",
   "execution_count": null,
   "metadata": {
    "colab": {
     "base_uri": "https://localhost:8080/"
    },
    "executionInfo": {
     "elapsed": 12,
     "status": "ok",
     "timestamp": 1688206698524,
     "user": {
      "displayName": "Aftab Alam",
      "userId": "03132164712327409153"
     },
     "user_tz": -330
    },
    "id": "ClBWXM0umUAc",
    "outputId": "2c388736-2c5d-44c4-e65a-1db5f757ff3e"
   },
   "outputs": [],
   "source": [
    "# printing the 10th image\n",
    "\n",
    "print(X_train[10])"
   ]
  },
  {
   "cell_type": "code",
   "execution_count": null,
   "metadata": {
    "colab": {
     "base_uri": "https://localhost:8080/"
    },
    "executionInfo": {
     "elapsed": 10,
     "status": "ok",
     "timestamp": 1688206698525,
     "user": {
      "displayName": "Aftab Alam",
      "userId": "03132164712327409153"
     },
     "user_tz": -330
    },
    "id": "6m2UC_APnbdu",
    "outputId": "47832a9e-4fdc-4919-9d06-5d9e3e7b0a93"
   },
   "outputs": [],
   "source": [
    "print(X_train[10].shape)"
   ]
  },
  {
   "cell_type": "code",
   "execution_count": null,
   "metadata": {
    "colab": {
     "base_uri": "https://localhost:8080/",
     "height": 447
    },
    "executionInfo": {
     "elapsed": 598,
     "status": "ok",
     "timestamp": 1688206699116,
     "user": {
      "displayName": "Aftab Alam",
      "userId": "03132164712327409153"
     },
     "user_tz": -330
    },
    "id": "Lr0YHVHdni3J",
    "outputId": "be44c08d-dccc-4188-edc5-11388ff9c7a5"
   },
   "outputs": [],
   "source": [
    "# displaying the image\n",
    "\n",
    "plt.imshow(X_train[25])\n",
    "plt.show()\n",
    "\n",
    "# print the corresponding label\n",
    "print(Y_train[25])"
   ]
  },
  {
   "cell_type": "markdown",
   "metadata": {
    "id": "U-Zv1ayioHVH"
   },
   "source": [
    "Image Lables"
   ]
  },
  {
   "cell_type": "code",
   "execution_count": null,
   "metadata": {
    "colab": {
     "base_uri": "https://localhost:8080/"
    },
    "executionInfo": {
     "elapsed": 515,
     "status": "ok",
     "timestamp": 1688206699607,
     "user": {
      "displayName": "Aftab Alam",
      "userId": "03132164712327409153"
     },
     "user_tz": -330
    },
    "id": "Nmf3HNLwn6Hh",
    "outputId": "9c5f948a-9e9d-4253-d737-59343bc80eb0"
   },
   "outputs": [],
   "source": [
    "print(Y_train.shape, Y_test.shape)"
   ]
  },
  {
   "cell_type": "code",
   "execution_count": null,
   "metadata": {
    "colab": {
     "base_uri": "https://localhost:8080/"
    },
    "executionInfo": {
     "elapsed": 9,
     "status": "ok",
     "timestamp": 1688206699608,
     "user": {
      "displayName": "Aftab Alam",
      "userId": "03132164712327409153"
     },
     "user_tz": -330
    },
    "id": "JoXh2a2xoM_8",
    "outputId": "c7cdb3e7-655a-4d5c-82ff-0d003da9b646"
   },
   "outputs": [],
   "source": [
    "# unique values in Y_train\n",
    "print(np.unique(Y_train))\n",
    "\n",
    "# unique values in Y_test\n",
    "print(np.unique(Y_test))"
   ]
  },
  {
   "cell_type": "markdown",
   "metadata": {
    "id": "8wIddeQ4oqro"
   },
   "source": [
    "We can use these labels as such or we can also apply One Hot Encoding"
   ]
  },
  {
   "cell_type": "markdown",
   "metadata": {
    "id": "g74YM0YJo6MW"
   },
   "source": [
    "All the images have the same dimensions in this dataset, If not, we have to resize all the images to a common dimension"
   ]
  },
  {
   "cell_type": "code",
   "execution_count": null,
   "metadata": {
    "executionInfo": {
     "elapsed": 7,
     "status": "ok",
     "timestamp": 1688206699608,
     "user": {
      "displayName": "Aftab Alam",
      "userId": "03132164712327409153"
     },
     "user_tz": -330
    },
    "id": "gAJxI68noeW5"
   },
   "outputs": [],
   "source": [
    "# scaling the values\n",
    "\n",
    "X_train = X_train/255\n",
    "X_test = X_test/255"
   ]
  },
  {
   "cell_type": "code",
   "execution_count": null,
   "metadata": {
    "colab": {
     "base_uri": "https://localhost:8080/"
    },
    "executionInfo": {
     "elapsed": 7,
     "status": "ok",
     "timestamp": 1688206699608,
     "user": {
      "displayName": "Aftab Alam",
      "userId": "03132164712327409153"
     },
     "user_tz": -330
    },
    "id": "olSCXrwfpnpr",
    "outputId": "00f00663-a3de-4d9d-9367-c51681ae43c4"
   },
   "outputs": [],
   "source": [
    "# printing the 10th image\n",
    "\n",
    "print(X_train[10])"
   ]
  },
  {
   "cell_type": "markdown",
   "metadata": {
    "id": "-OGxD2JNqW7V"
   },
   "source": [
    "Building the Neural Network"
   ]
  },
  {
   "cell_type": "code",
   "execution_count": null,
   "metadata": {
    "executionInfo": {
     "elapsed": 636,
     "status": "ok",
     "timestamp": 1688206700239,
     "user": {
      "displayName": "Aftab Alam",
      "userId": "03132164712327409153"
     },
     "user_tz": -330
    },
    "id": "w5Cc2uc7qM0v"
   },
   "outputs": [],
   "source": [
    "# setting up the layers of the Neural  Network\n",
    "\n",
    "model = keras.Sequential([\n",
    "                          keras.layers.Flatten(input_shape=(28,28)),\n",
    "                          keras.layers.Dense(50, activation='relu'),\n",
    "                          keras.layers.Dense(50, activation='relu'),\n",
    "                          keras.layers.Dense(10, activation='sigmoid')\n",
    "])"
   ]
  },
  {
   "cell_type": "code",
   "execution_count": null,
   "metadata": {
    "executionInfo": {
     "elapsed": 7,
     "status": "ok",
     "timestamp": 1688206700240,
     "user": {
      "displayName": "Aftab Alam",
      "userId": "03132164712327409153"
     },
     "user_tz": -330
    },
    "id": "1I2D8NLxsEsf"
   },
   "outputs": [],
   "source": [
    "# compiling the Neural Network\n",
    "\n",
    "model.compile(optimizer='adam',\n",
    "              loss = 'sparse_categorical_crossentropy',\n",
    "              metrics=['accuracy'])"
   ]
  },
  {
   "cell_type": "code",
   "execution_count": null,
   "metadata": {
    "colab": {
     "base_uri": "https://localhost:8080/"
    },
    "executionInfo": {
     "elapsed": 58102,
     "status": "ok",
     "timestamp": 1688206758336,
     "user": {
      "displayName": "Aftab Alam",
      "userId": "03132164712327409153"
     },
     "user_tz": -330
    },
    "id": "NyaE8g3os3Ty",
    "outputId": "4d365a73-d231-4e17-8511-84732987f00d"
   },
   "outputs": [],
   "source": [
    "# training the Neural Network\n",
    "\n",
    "model.fit(X_train, Y_train, epochs=10)"
   ]
  },
  {
   "cell_type": "markdown",
   "metadata": {
    "id": "BCIrbFzatnNL"
   },
   "source": [
    "Training data accuracy = 98.9%"
   ]
  },
  {
   "cell_type": "markdown",
   "metadata": {
    "id": "PzqQaLcBtvUh"
   },
   "source": [
    "**Accuracy on Test data:**"
   ]
  },
  {
   "cell_type": "code",
   "execution_count": null,
   "metadata": {
    "colab": {
     "base_uri": "https://localhost:8080/"
    },
    "executionInfo": {
     "elapsed": 43,
     "status": "ok",
     "timestamp": 1688206758337,
     "user": {
      "displayName": "Aftab Alam",
      "userId": "03132164712327409153"
     },
     "user_tz": -330
    },
    "id": "XoyRl62stGvm",
    "outputId": "3c5dd658-74bb-4562-f423-fd75a42b2dc8"
   },
   "outputs": [],
   "source": [
    "loss, accuracy = model.evaluate(X_test, Y_test)\n",
    "print(accuracy)"
   ]
  },
  {
   "cell_type": "markdown",
   "metadata": {
    "id": "LvDub61LuJ3Q"
   },
   "source": [
    "Test data accuracy = 97.1%"
   ]
  },
  {
   "cell_type": "code",
   "execution_count": null,
   "metadata": {
    "colab": {
     "base_uri": "https://localhost:8080/"
    },
    "executionInfo": {
     "elapsed": 10,
     "status": "ok",
     "timestamp": 1688206758338,
     "user": {
      "displayName": "Aftab Alam",
      "userId": "03132164712327409153"
     },
     "user_tz": -330
    },
    "id": "Jy_0KNc7uE8P",
    "outputId": "759cea33-9217-44e5-a425-faa985bc4411"
   },
   "outputs": [],
   "source": [
    "print(X_test.shape)"
   ]
  },
  {
   "cell_type": "code",
   "execution_count": null,
   "metadata": {
    "colab": {
     "base_uri": "https://localhost:8080/",
     "height": 430
    },
    "executionInfo": {
     "elapsed": 1932,
     "status": "ok",
     "timestamp": 1688206760262,
     "user": {
      "displayName": "Aftab Alam",
      "userId": "03132164712327409153"
     },
     "user_tz": -330
    },
    "id": "H0FbpoPQuUXx",
    "outputId": "014467b7-5214-4c47-dad2-b4d9bef14706"
   },
   "outputs": [],
   "source": [
    "# first data point in X_test\n",
    "plt.imshow(X_test[0])\n",
    "plt.show()"
   ]
  },
  {
   "cell_type": "code",
   "execution_count": null,
   "metadata": {
    "colab": {
     "base_uri": "https://localhost:8080/"
    },
    "executionInfo": {
     "elapsed": 37,
     "status": "ok",
     "timestamp": 1688206760262,
     "user": {
      "displayName": "Aftab Alam",
      "userId": "03132164712327409153"
     },
     "user_tz": -330
    },
    "id": "r9FHvoC0ueE-",
    "outputId": "9e112c6a-4316-4008-eb7e-ad9db65fd210"
   },
   "outputs": [],
   "source": [
    "print(Y_test[0])"
   ]
  },
  {
   "cell_type": "code",
   "execution_count": null,
   "metadata": {
    "colab": {
     "base_uri": "https://localhost:8080/"
    },
    "executionInfo": {
     "elapsed": 36,
     "status": "ok",
     "timestamp": 1688206760263,
     "user": {
      "displayName": "Aftab Alam",
      "userId": "03132164712327409153"
     },
     "user_tz": -330
    },
    "id": "fdYxpFVgujWJ",
    "outputId": "ff592e1e-3115-40f6-ecb5-76bba50481b5"
   },
   "outputs": [],
   "source": [
    "Y_pred = model.predict(X_test)"
   ]
  },
  {
   "cell_type": "code",
   "execution_count": null,
   "metadata": {
    "colab": {
     "base_uri": "https://localhost:8080/"
    },
    "executionInfo": {
     "elapsed": 34,
     "status": "ok",
     "timestamp": 1688206760264,
     "user": {
      "displayName": "Aftab Alam",
      "userId": "03132164712327409153"
     },
     "user_tz": -330
    },
    "id": "JK6kpaNGuw16",
    "outputId": "65fc1f64-8fd9-4320-ac69-1ccc28f7f9d4"
   },
   "outputs": [],
   "source": [
    "print(Y_pred.shape)"
   ]
  },
  {
   "cell_type": "code",
   "execution_count": null,
   "metadata": {
    "colab": {
     "base_uri": "https://localhost:8080/"
    },
    "executionInfo": {
     "elapsed": 32,
     "status": "ok",
     "timestamp": 1688206760264,
     "user": {
      "displayName": "Aftab Alam",
      "userId": "03132164712327409153"
     },
     "user_tz": -330
    },
    "id": "3czHMOdou069",
    "outputId": "6059bacb-058c-4fc6-b082-c3e2c763e2d6"
   },
   "outputs": [],
   "source": [
    "print(Y_pred[0])"
   ]
  },
  {
   "cell_type": "markdown",
   "metadata": {
    "id": "m2enu0zlvSzv"
   },
   "source": [
    "model.predict() gives the prediction probability of each class for that data point"
   ]
  },
  {
   "cell_type": "code",
   "execution_count": null,
   "metadata": {
    "colab": {
     "base_uri": "https://localhost:8080/"
    },
    "executionInfo": {
     "elapsed": 30,
     "status": "ok",
     "timestamp": 1688206760264,
     "user": {
      "displayName": "Aftab Alam",
      "userId": "03132164712327409153"
     },
     "user_tz": -330
    },
    "id": "X5Z-zYKvu-tO",
    "outputId": "a894b1b9-09f6-4ed4-c658-d76e655d3d25"
   },
   "outputs": [],
   "source": [
    "# converting the prediction probabilities to class label\n",
    "\n",
    "label_for_first_test_image = np.argmax(Y_pred[0])\n",
    "print(label_for_first_test_image)"
   ]
  },
  {
   "cell_type": "code",
   "execution_count": null,
   "metadata": {
    "colab": {
     "base_uri": "https://localhost:8080/"
    },
    "executionInfo": {
     "elapsed": 28,
     "status": "ok",
     "timestamp": 1688206760265,
     "user": {
      "displayName": "Aftab Alam",
      "userId": "03132164712327409153"
     },
     "user_tz": -330
    },
    "id": "feoJffe2v38n",
    "outputId": "173f0410-2afd-4465-dde2-12aa4de9f49a"
   },
   "outputs": [],
   "source": [
    "# converting the prediction probabilities to class label for all test data points\n",
    "Y_pred_labels = [np.argmax(i) for i in Y_pred]\n",
    "print(Y_pred_labels)"
   ]
  },
  {
   "cell_type": "markdown",
   "metadata": {
    "id": "sEElzNG8wx-x"
   },
   "source": [
    "Y_test  -->  True labels\n",
    "\n",
    "Y_pred_labels  -->  Predicted Labels"
   ]
  },
  {
   "cell_type": "markdown",
   "metadata": {
    "id": "hhA0iCyIw8xj"
   },
   "source": [
    "Confusin Matrix"
   ]
  },
  {
   "cell_type": "code",
   "execution_count": null,
   "metadata": {
    "executionInfo": {
     "elapsed": 26,
     "status": "ok",
     "timestamp": 1688206760265,
     "user": {
      "displayName": "Aftab Alam",
      "userId": "03132164712327409153"
     },
     "user_tz": -330
    },
    "id": "KtAB880UwiRS"
   },
   "outputs": [],
   "source": [
    "conf_mat = confusion_matrix(Y_test, Y_pred_labels)"
   ]
  },
  {
   "cell_type": "code",
   "execution_count": null,
   "metadata": {
    "colab": {
     "base_uri": "https://localhost:8080/"
    },
    "executionInfo": {
     "elapsed": 27,
     "status": "ok",
     "timestamp": 1688206760266,
     "user": {
      "displayName": "Aftab Alam",
      "userId": "03132164712327409153"
     },
     "user_tz": -330
    },
    "id": "BFIDGMJFxM6r",
    "outputId": "fa3c2eae-850a-4fdb-8381-07325c3cbbad"
   },
   "outputs": [],
   "source": [
    "print(conf_mat)"
   ]
  },
  {
   "cell_type": "code",
   "execution_count": null,
   "metadata": {
    "colab": {
     "base_uri": "https://localhost:8080/",
     "height": 540
    },
    "executionInfo": {
     "elapsed": 2341,
     "status": "ok",
     "timestamp": 1688206762592,
     "user": {
      "displayName": "Aftab Alam",
      "userId": "03132164712327409153"
     },
     "user_tz": -330
    },
    "id": "1lygLZQwxO2G",
    "outputId": "028fedc8-9732-403b-a0f6-84640d256835"
   },
   "outputs": [],
   "source": [
    "plt.figure(figsize=(15,7))\n",
    "sns.heatmap(conf_mat, annot=True, fmt='d', cmap='Blues')\n",
    "plt.ylabel('True Labels')\n",
    "plt.xlabel('Predicted Labels')"
   ]
  },
  {
   "cell_type": "markdown",
   "metadata": {
    "id": "KVp9lOgYy2RL"
   },
   "source": [
    "Building a Predictive System"
   ]
  },
  {
   "cell_type": "markdown",
   "metadata": {
    "id": "yoUv5obR7Qk5"
   },
   "source": [
    "Prediction image link: https://camo.githubusercontent.com/3d9666a8f0c5658667292b74ca19295827c2b22a0e903db283998ae213e6f6e1/68747470733a2f2f646174616d61646e6573732e6769746875622e696f2f6173736574732f696d616765732f74665f66696c655f666565642f4d4e4953545f64696769742e706e67"
   ]
  },
  {
   "cell_type": "code",
   "execution_count": null,
   "metadata": {
    "executionInfo": {
     "elapsed": 68,
     "status": "ok",
     "timestamp": 1688206762593,
     "user": {
      "displayName": "Aftab Alam",
      "userId": "03132164712327409153"
     },
     "user_tz": -330
    },
    "id": "yjYyexayx4pp"
   },
   "outputs": [],
   "source": [
    "input_image_path = '/content/MNIST_digit.png'\n",
    "\n",
    "input_image = cv2.imread(input_image_path)"
   ]
  },
  {
   "cell_type": "code",
   "execution_count": null,
   "metadata": {
    "colab": {
     "base_uri": "https://localhost:8080/"
    },
    "executionInfo": {
     "elapsed": 65,
     "status": "ok",
     "timestamp": 1688206762593,
     "user": {
      "displayName": "Aftab Alam",
      "userId": "03132164712327409153"
     },
     "user_tz": -330
    },
    "id": "mIqt1kTRzUy-",
    "outputId": "121d2485-9eed-4de5-e341-b893995dd2bc"
   },
   "outputs": [],
   "source": [
    "type(input_image)"
   ]
  },
  {
   "cell_type": "code",
   "execution_count": null,
   "metadata": {
    "colab": {
     "base_uri": "https://localhost:8080/"
    },
    "executionInfo": {
     "elapsed": 59,
     "status": "ok",
     "timestamp": 1688206762593,
     "user": {
      "displayName": "Aftab Alam",
      "userId": "03132164712327409153"
     },
     "user_tz": -330
    },
    "id": "kC1P--e_zXck",
    "outputId": "77023bec-7ba3-4b12-dfbb-52fd23125ade"
   },
   "outputs": [],
   "source": [
    "print(input_image)"
   ]
  },
  {
   "cell_type": "code",
   "execution_count": null,
   "metadata": {
    "colab": {
     "base_uri": "https://localhost:8080/",
     "height": 335
    },
    "executionInfo": {
     "elapsed": 55,
     "status": "ok",
     "timestamp": 1688206762594,
     "user": {
      "displayName": "Aftab Alam",
      "userId": "03132164712327409153"
     },
     "user_tz": -330
    },
    "id": "cwx9uCkGzbGT",
    "outputId": "837876a1-a532-41bf-c699-ea186d9b199b"
   },
   "outputs": [],
   "source": [
    "cv2_imshow(input_image)"
   ]
  },
  {
   "cell_type": "code",
   "execution_count": null,
   "metadata": {
    "colab": {
     "base_uri": "https://localhost:8080/"
    },
    "executionInfo": {
     "elapsed": 53,
     "status": "ok",
     "timestamp": 1688206762594,
     "user": {
      "displayName": "Aftab Alam",
      "userId": "03132164712327409153"
     },
     "user_tz": -330
    },
    "id": "78AQcVc-zlOj",
    "outputId": "cea3617e-d2e1-47b5-b6c9-3f0cc49b61fd"
   },
   "outputs": [],
   "source": [
    "input_image.shape"
   ]
  },
  {
   "cell_type": "code",
   "execution_count": null,
   "metadata": {
    "executionInfo": {
     "elapsed": 48,
     "status": "ok",
     "timestamp": 1688206762594,
     "user": {
      "displayName": "Aftab Alam",
      "userId": "03132164712327409153"
     },
     "user_tz": -330
    },
    "id": "MXA0J3CyznE2"
   },
   "outputs": [],
   "source": [
    "grayscale = cv2.cvtColor(input_image, cv2.COLOR_RGB2GRAY)"
   ]
  },
  {
   "cell_type": "code",
   "execution_count": null,
   "metadata": {
    "colab": {
     "base_uri": "https://localhost:8080/"
    },
    "executionInfo": {
     "elapsed": 49,
     "status": "ok",
     "timestamp": 1688206762595,
     "user": {
      "displayName": "Aftab Alam",
      "userId": "03132164712327409153"
     },
     "user_tz": -330
    },
    "id": "ZkW_hJh_0Df6",
    "outputId": "b0874dfe-8daf-4f4b-dad2-78c6cdcb08b2"
   },
   "outputs": [],
   "source": [
    "grayscale.shape"
   ]
  },
  {
   "cell_type": "code",
   "execution_count": null,
   "metadata": {
    "executionInfo": {
     "elapsed": 45,
     "status": "ok",
     "timestamp": 1688206762595,
     "user": {
      "displayName": "Aftab Alam",
      "userId": "03132164712327409153"
     },
     "user_tz": -330
    },
    "id": "hEXu0BmE0Goo"
   },
   "outputs": [],
   "source": [
    "input_image_resize = cv2.resize(grayscale, (28, 28))"
   ]
  },
  {
   "cell_type": "code",
   "execution_count": null,
   "metadata": {
    "colab": {
     "base_uri": "https://localhost:8080/"
    },
    "executionInfo": {
     "elapsed": 45,
     "status": "ok",
     "timestamp": 1688206762595,
     "user": {
      "displayName": "Aftab Alam",
      "userId": "03132164712327409153"
     },
     "user_tz": -330
    },
    "id": "X9VOKvgx0YzU",
    "outputId": "7ceb7116-9c85-4074-cc79-e24c65d592c9"
   },
   "outputs": [],
   "source": [
    "input_image_resize.shape"
   ]
  },
  {
   "cell_type": "code",
   "execution_count": null,
   "metadata": {
    "colab": {
     "base_uri": "https://localhost:8080/",
     "height": 45
    },
    "executionInfo": {
     "elapsed": 43,
     "status": "ok",
     "timestamp": 1688206762596,
     "user": {
      "displayName": "Aftab Alam",
      "userId": "03132164712327409153"
     },
     "user_tz": -330
    },
    "id": "4vawW06R0anF",
    "outputId": "c23c8d65-9245-471c-d4af-01850d78540d"
   },
   "outputs": [],
   "source": [
    "cv2_imshow(input_image_resize)"
   ]
  },
  {
   "cell_type": "code",
   "execution_count": null,
   "metadata": {
    "executionInfo": {
     "elapsed": 41,
     "status": "ok",
     "timestamp": 1688206762596,
     "user": {
      "displayName": "Aftab Alam",
      "userId": "03132164712327409153"
     },
     "user_tz": -330
    },
    "id": "VVQnhHBS0j9T"
   },
   "outputs": [],
   "source": [
    "input_image_resize = input_image_resize/255"
   ]
  },
  {
   "cell_type": "code",
   "execution_count": null,
   "metadata": {
    "colab": {
     "base_uri": "https://localhost:8080/"
    },
    "executionInfo": {
     "elapsed": 41,
     "status": "ok",
     "timestamp": 1688206762596,
     "user": {
      "displayName": "Aftab Alam",
      "userId": "03132164712327409153"
     },
     "user_tz": -330
    },
    "id": "cj5QRu4N1FVv",
    "outputId": "e0de658f-3028-4f3d-d1ac-4114d1d7bca9"
   },
   "outputs": [],
   "source": [
    "type(input_image_resize)"
   ]
  },
  {
   "cell_type": "code",
   "execution_count": null,
   "metadata": {
    "executionInfo": {
     "elapsed": 39,
     "status": "ok",
     "timestamp": 1688206762597,
     "user": {
      "displayName": "Aftab Alam",
      "userId": "03132164712327409153"
     },
     "user_tz": -330
    },
    "id": "kEIClW1L0y6_"
   },
   "outputs": [],
   "source": [
    "image_reshaped = np.reshape(input_image_resize, [1,28,28])"
   ]
  },
  {
   "cell_type": "code",
   "execution_count": null,
   "metadata": {
    "colab": {
     "base_uri": "https://localhost:8080/"
    },
    "executionInfo": {
     "elapsed": 39,
     "status": "ok",
     "timestamp": 1688206762597,
     "user": {
      "displayName": "Aftab Alam",
      "userId": "03132164712327409153"
     },
     "user_tz": -330
    },
    "id": "S7pcNqPT1elf",
    "outputId": "c078a3af-a85c-4437-d658-9150ddc35163"
   },
   "outputs": [],
   "source": [
    "input_prediction = model.predict(image_reshaped)\n",
    "print(input_prediction)"
   ]
  },
  {
   "cell_type": "code",
   "execution_count": null,
   "metadata": {
    "executionInfo": {
     "elapsed": 37,
     "status": "ok",
     "timestamp": 1688206762597,
     "user": {
      "displayName": "Aftab Alam",
      "userId": "03132164712327409153"
     },
     "user_tz": -330
    },
    "id": "KiuNa3BC1l9B"
   },
   "outputs": [],
   "source": [
    "input_pred_label = np.argmax(input_prediction)"
   ]
  },
  {
   "cell_type": "code",
   "execution_count": null,
   "metadata": {
    "colab": {
     "base_uri": "https://localhost:8080/"
    },
    "executionInfo": {
     "elapsed": 33,
     "status": "ok",
     "timestamp": 1688206762598,
     "user": {
      "displayName": "Aftab Alam",
      "userId": "03132164712327409153"
     },
     "user_tz": -330
    },
    "id": "qQga0z2z1tZf",
    "outputId": "720e69f9-bdb6-40b0-f336-e9c250212338"
   },
   "outputs": [],
   "source": [
    "print(input_pred_label)"
   ]
  },
  {
   "cell_type": "markdown",
   "metadata": {
    "id": "u5VVQN7f15Bz"
   },
   "source": [
    "**Predictive System**"
   ]
  },
  {
   "cell_type": "code",
   "execution_count": null,
   "metadata": {
    "colab": {
     "base_uri": "https://localhost:8080/",
     "height": 294
    },
    "executionInfo": {
     "elapsed": 5793,
     "status": "ok",
     "timestamp": 1688206837922,
     "user": {
      "displayName": "Aftab Alam",
      "userId": "03132164712327409153"
     },
     "user_tz": -330
    },
    "id": "vhu3CRQZ1vx0",
    "outputId": "41ae227a-d754-414f-8b18-c2c96fcb758c"
   },
   "outputs": [],
   "source": [
    "input_image_path = input('Path of the image to be predicted: ')\n",
    "\n",
    "input_image = cv2.imread(input_image_path)\n",
    "\n",
    "cv2_imshow(input_image)\n",
    "\n",
    "grayscale = cv2.cvtColor(input_image, cv2.COLOR_RGB2GRAY)\n",
    "\n",
    "input_image_resize = cv2.resize(grayscale, (28, 28))\n",
    "\n",
    "input_image_resize = input_image_resize/255\n",
    "\n",
    "image_reshaped = np.reshape(input_image_resize, [1,28,28])\n",
    "\n",
    "input_prediction = model.predict(image_reshaped)\n",
    "\n",
    "input_pred_label = np.argmax(input_prediction)\n",
    "\n",
    "print('The Handwritten Digit is recognised as ', input_pred_label)"
   ]
  },
  {
   "cell_type": "code",
   "execution_count": null,
   "metadata": {
    "executionInfo": {
     "elapsed": 42,
     "status": "ok",
     "timestamp": 1688206780948,
     "user": {
      "displayName": "Aftab Alam",
      "userId": "03132164712327409153"
     },
     "user_tz": -330
    },
    "id": "YjVLhAL_2pfm"
   },
   "outputs": [],
   "source": []
  }
 ],
 "metadata": {
  "colab": {
   "provenance": [
    {
     "file_id": "17FViiMJbJXQ5s9GOW94emoHcCKUcYr3l",
     "timestamp": 1688206863180
    }
   ]
  },
  "kernelspec": {
   "display_name": "Python 3 (ipykernel)",
   "language": "python",
   "name": "python3"
  },
  "language_info": {
   "codemirror_mode": {
    "name": "ipython",
    "version": 3
   },
   "file_extension": ".py",
   "mimetype": "text/x-python",
   "name": "python",
   "nbconvert_exporter": "python",
   "pygments_lexer": "ipython3",
   "version": "3.9.13"
  }
 },
 "nbformat": 4,
 "nbformat_minor": 1
}
